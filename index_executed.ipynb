{
 "cells": [
  {
   "cell_type": "raw",
   "id": "9adeb722",
   "metadata": {
    "papermill": {
     "duration": 0.002027,
     "end_time": "2024-08-28T08:10:42.497499",
     "exception": false,
     "start_time": "2024-08-28T08:10:42.495472",
     "status": "completed"
    },
    "tags": [],
    "vscode": {
     "languageId": "raw"
    }
   },
   "source": [
    "---\n",
    "#title: \"Pipeline para el Procesamiento del Lenguaje Natural (NPL) a través de la librería spaCy\"\n",
    "author: \"Mario Camacho\"\n",
    "date: \"08-25-2024\"\n",
    "date-modified: last-modified\n",
    "date-format: \"DD MMMM YYYY\"\n",
    "lang: es\n",
    "---"
   ]
  },
  {
   "cell_type": "code",
   "execution_count": 1,
   "id": "eb9e2762",
   "metadata": {
    "execution": {
     "iopub.execute_input": "2024-08-28T08:10:42.501481Z",
     "iopub.status.busy": "2024-08-28T08:10:42.501481Z",
     "iopub.status.idle": "2024-08-28T08:10:43.373876Z",
     "shell.execute_reply": "2024-08-28T08:10:43.373876Z"
    },
    "papermill": {
     "duration": 0.876347,
     "end_time": "2024-08-28T08:10:43.374826",
     "exception": false,
     "start_time": "2024-08-28T08:10:42.498479",
     "status": "completed"
    },
    "tags": []
   },
   "outputs": [],
   "source": [
    "from src.imports import *\n",
    "\n",
    "with open('src/get_ner_in_context.py') as f:\n",
    "    exec(f.read())"
   ]
  },
  {
   "cell_type": "markdown",
   "id": "37e3878d",
   "metadata": {
    "papermill": {
     "duration": 0.001,
     "end_time": "2024-08-28T08:10:43.376833",
     "exception": false,
     "start_time": "2024-08-28T08:10:43.375833",
     "status": "completed"
    },
    "tags": []
   },
   "source": [
    "# Introducción2"
   ]
  },
  {
   "cell_type": "code",
   "execution_count": 2,
   "id": "0a9117ea",
   "metadata": {
    "execution": {
     "iopub.execute_input": "2024-08-28T08:10:43.378826Z",
     "iopub.status.busy": "2024-08-28T08:10:43.378826Z",
     "iopub.status.idle": "2024-08-28T08:10:44.697925Z",
     "shell.execute_reply": "2024-08-28T08:10:44.697360Z"
    },
    "papermill": {
     "duration": 1.321099,
     "end_time": "2024-08-28T08:10:44.698961",
     "exception": false,
     "start_time": "2024-08-28T08:10:43.377862",
     "status": "completed"
    },
    "tags": []
   },
   "outputs": [],
   "source": [
    "# Enviar una solicitud GET a la URL\n",
    "response = requests.get(\"https://www.gutenberg.org/cache/epub/2000/pg2000.txt\")\n",
    "\n",
    "# Verificar si la solicitud fue exitosa\n",
    "if response.status_code == 200:\n",
    "    quijote = response.text\n",
    "    # print(\"Éxito al leer el texto.\")\n",
    "else:\n",
    "    print(\"Error al leer el texto.\")"
   ]
  }
 ],
 "metadata": {
  "kernelspec": {
   "display_name": "Python 3",
   "language": "python",
   "name": "python3"
  },
  "language_info": {
   "codemirror_mode": {
    "name": "ipython",
    "version": 3
   },
   "file_extension": ".py",
   "mimetype": "text/x-python",
   "name": "python",
   "nbconvert_exporter": "python",
   "pygments_lexer": "ipython3",
   "version": "3.12.5"
  },
  "papermill": {
   "default_parameters": {},
   "duration": 3.196151,
   "end_time": "2024-08-28T08:10:44.931477",
   "environment_variables": {},
   "exception": null,
   "input_path": "introduccion.ipynb",
   "output_path": "index_executed.ipynb",
   "parameters": {},
   "start_time": "2024-08-28T08:10:41.735326",
   "version": "2.6.0"
  }
 },
 "nbformat": 4,
 "nbformat_minor": 5
}