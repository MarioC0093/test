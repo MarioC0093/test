{
 "cells": [
  {
   "cell_type": "raw",
   "id": "9cb2a463",
   "metadata": {
    "vscode": {
     "languageId": "raw"
    }
   },
   "source": [
    "---\n",
    "#title: \"Pipeline para el Procesamiento del Lenguaje Natural (NPL) a través de la librería spaCy\"\n",
    "author: \"Mario Camacho\"\n",
    "date: \"08-25-2024\"\n",
    "date-modified: last-modified\n",
    "date-format: \"DD MMMM YYYY\"\n",
    "lang: es\n",
    "---"
   ]
  },
  {
   "cell_type": "code",
   "execution_count": 4,
   "id": "7f018634",
   "metadata": {},
   "outputs": [
    {
     "data": {
      "text/plain": [
       "'c:\\\\Users\\\\MarioC\\\\Documents\\\\GitHub\\\\test'"
      ]
     },
     "execution_count": 4,
     "metadata": {},
     "output_type": "execute_result"
    }
   ],
   "source": [
    "import os\n",
    "os.getcwd()"
   ]
  },
  {
   "cell_type": "markdown",
   "id": "faf5eafd",
   "metadata": {},
   "source": [
    "# Preproceso"
   ]
  },
  {
   "cell_type": "markdown",
   "id": "038ab5c1",
   "metadata": {},
   "source": [
    "## Ingesta del documento"
   ]
  },
  {
   "cell_type": "markdown",
   "id": "1b7a57cc",
   "metadata": {},
   "source": [
    "Leemos el libro El Quijote."
   ]
  },
  {
   "cell_type": "code",
   "execution_count": 2,
   "id": "0a9117ea",
   "metadata": {},
   "outputs": [
    {
     "name": "stdout",
     "output_type": "stream",
     "text": [
      "Éxito al leer el texto.\n"
     ]
    }
   ],
   "source": [
    "# Enviar una solicitud GET a la URL\n",
    "response = requests.get(\"https://www.gutenberg.org/cache/epub/2000/pg2000.txt\")\n",
    "\n",
    "# Verificar si la solicitud fue exitosa\n",
    "if response.status_code == 200:\n",
    "    quijote = response.text\n",
    "    print(\"Éxito al leer el texto.\")\n",
    "else:\n",
    "    print(\"Error al leer el texto.\")"
   ]
  }
 ],
 "metadata": {
  "kernelspec": {
   "display_name": "Python 3",
   "language": "python",
   "name": "python3"
  },
  "language_info": {
   "codemirror_mode": {
    "name": "ipython",
    "version": 3
   },
   "file_extension": ".py",
   "mimetype": "text/x-python",
   "name": "python",
   "nbconvert_exporter": "python",
   "pygments_lexer": "ipython3",
   "version": "3.12.5"
  }
 },
 "nbformat": 4,
 "nbformat_minor": 5
}
