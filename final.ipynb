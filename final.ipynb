{
 "cells": [
  {
   "cell_type": "raw",
   "id": "9cb2a463",
   "metadata": {
    "vscode": {
     "languageId": "raw"
    }
   },
   "source": [
    "---\n",
    "#title: \"Pipeline para el Procesamiento del Lenguaje Natural (NPL) a través de la librería spaCy\"\n",
    "author: \"Mario Camacho\"\n",
    "date: \"08-25-2024\"\n",
    "date-modified: last-modified\n",
    "date-format: \"DD MMMM YYYY\"\n",
    "lang: es\n",
    "---"
   ]
  },
  {
   "cell_type": "code",
   "execution_count": 1,
   "id": "0a9117ea",
   "metadata": {},
   "outputs": [
    {
     "name": "stdout",
     "output_type": "stream",
     "text": [
      "Éxito al leer el texto.\n"
     ]
    }
   ],
   "source": [
    "# master.ipynb\n",
    "\n",
    "# Ejecutar el primer notebook\n",
    "%run introduccion.ipynb\n",
    "\n",
    "# Ahora el metadata del primer notebook está disponible para el segundo\n",
    "%run prep.ipynb"
   ]
  }
 ],
 "metadata": {
  "kernelspec": {
   "display_name": "Python 3",
   "language": "python",
   "name": "python3"
  },
  "language_info": {
   "codemirror_mode": {
    "name": "ipython",
    "version": 3
   },
   "file_extension": ".py",
   "mimetype": "text/x-python",
   "name": "python",
   "nbconvert_exporter": "python",
   "pygments_lexer": "ipython3",
   "version": "3.12.5"
  }
 },
 "nbformat": 4,
 "nbformat_minor": 5
}
