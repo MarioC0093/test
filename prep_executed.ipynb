{
 "cells": [
  {
   "cell_type": "markdown",
   "id": "99ce93e0",
   "metadata": {
    "tags": [
     "papermill-error-cell-tag"
    ]
   },
   "source": [
    "<span style=\"color:red; font-family:Helvetica Neue, Helvetica, Arial, sans-serif; font-size:2em;\">An Exception was encountered at '<a href=\"#papermill-error-cell\">In [2]</a>'.</span>"
   ]
  },
  {
   "cell_type": "raw",
   "id": "9cb2a463",
   "metadata": {
    "papermill": {
     "duration": 0.002029,
     "end_time": "2024-08-28T08:10:45.705951",
     "exception": false,
     "start_time": "2024-08-28T08:10:45.703922",
     "status": "completed"
    },
    "tags": [],
    "vscode": {
     "languageId": "raw"
    }
   },
   "source": [
    "---\n",
    "#title: \"Pipeline para el Procesamiento del Lenguaje Natural (NPL) a través de la librería spaCy\"\n",
    "author: \"Mario Camacho\"\n",
    "date: \"08-25-2024\"\n",
    "date-modified: last-modified\n",
    "date-format: \"DD MMMM YYYY\"\n",
    "lang: es\n",
    "---"
   ]
  },
  {
   "cell_type": "code",
   "execution_count": 1,
   "id": "7f018634",
   "metadata": {
    "execution": {
     "iopub.execute_input": "2024-08-28T08:10:45.710944Z",
     "iopub.status.busy": "2024-08-28T08:10:45.710944Z",
     "iopub.status.idle": "2024-08-28T08:10:45.717662Z",
     "shell.execute_reply": "2024-08-28T08:10:45.717534Z"
    },
    "papermill": {
     "duration": 0.010642,
     "end_time": "2024-08-28T08:10:45.718585",
     "exception": false,
     "start_time": "2024-08-28T08:10:45.707943",
     "status": "completed"
    },
    "tags": []
   },
   "outputs": [
    {
     "data": {
      "text/plain": [
       "'c:\\\\Users\\\\MarioC\\\\Documents\\\\GitHub\\\\test'"
      ]
     },
     "execution_count": 1,
     "metadata": {},
     "output_type": "execute_result"
    }
   ],
   "source": [
    "import os\n",
    "os.getcwd()"
   ]
  },
  {
   "cell_type": "markdown",
   "id": "faf5eafd",
   "metadata": {
    "papermill": {
     "duration": 0.001004,
     "end_time": "2024-08-28T08:10:45.721622",
     "exception": false,
     "start_time": "2024-08-28T08:10:45.720618",
     "status": "completed"
    },
    "tags": []
   },
   "source": [
    "# Preproceso"
   ]
  },
  {
   "cell_type": "markdown",
   "id": "038ab5c1",
   "metadata": {
    "papermill": {
     "duration": 0.00098,
     "end_time": "2024-08-28T08:10:45.723618",
     "exception": false,
     "start_time": "2024-08-28T08:10:45.722638",
     "status": "completed"
    },
    "tags": []
   },
   "source": [
    "## Ingesta del documento"
   ]
  },
  {
   "cell_type": "markdown",
   "id": "1b7a57cc",
   "metadata": {
    "papermill": {
     "duration": 0.000996,
     "end_time": "2024-08-28T08:10:45.725546",
     "exception": false,
     "start_time": "2024-08-28T08:10:45.724550",
     "status": "completed"
    },
    "tags": []
   },
   "source": [
    "Leemos el libro El Quijote."
   ]
  },
  {
   "cell_type": "markdown",
   "id": "71dc778f",
   "metadata": {
    "tags": [
     "papermill-error-cell-tag"
    ]
   },
   "source": [
    "<span id=\"papermill-error-cell\" style=\"color:red; font-family:Helvetica Neue, Helvetica, Arial, sans-serif; font-size:2em;\">Execution using papermill encountered an exception here and stopped:</span>"
   ]
  },
  {
   "cell_type": "code",
   "execution_count": 2,
   "id": "0a9117ea",
   "metadata": {
    "execution": {
     "iopub.execute_input": "2024-08-28T08:10:45.727550Z",
     "iopub.status.busy": "2024-08-28T08:10:45.727550Z",
     "iopub.status.idle": "2024-08-28T08:10:45.840277Z",
     "shell.execute_reply": "2024-08-28T08:10:45.839847Z"
    },
    "papermill": {
     "duration": 0.113727,
     "end_time": "2024-08-28T08:10:45.840277",
     "exception": true,
     "start_time": "2024-08-28T08:10:45.726550",
     "status": "failed"
    },
    "tags": []
   },
   "outputs": [
    {
     "ename": "NameError",
     "evalue": "name 'requests' is not defined",
     "output_type": "error",
     "traceback": [
      "\u001b[1;31m---------------------------------------------------------------------------\u001b[0m",
      "\u001b[1;31mNameError\u001b[0m                                 Traceback (most recent call last)",
      "Cell \u001b[1;32mIn[2], line 2\u001b[0m\n\u001b[0;32m      1\u001b[0m \u001b[38;5;66;03m# Enviar una solicitud GET a la URL\u001b[39;00m\n\u001b[1;32m----> 2\u001b[0m response \u001b[38;5;241m=\u001b[39m \u001b[43mrequests\u001b[49m\u001b[38;5;241m.\u001b[39mget(\u001b[38;5;124m\"\u001b[39m\u001b[38;5;124mhttps://www.gutenberg.org/cache/epub/2000/pg2000.txt\u001b[39m\u001b[38;5;124m\"\u001b[39m)\n\u001b[0;32m      4\u001b[0m \u001b[38;5;66;03m# Verificar si la solicitud fue exitosa\u001b[39;00m\n\u001b[0;32m      5\u001b[0m \u001b[38;5;28;01mif\u001b[39;00m response\u001b[38;5;241m.\u001b[39mstatus_code \u001b[38;5;241m==\u001b[39m \u001b[38;5;241m200\u001b[39m:\n",
      "\u001b[1;31mNameError\u001b[0m: name 'requests' is not defined"
     ]
    }
   ],
   "source": [
    "# Enviar una solicitud GET a la URL\n",
    "response = requests.get(\"https://www.gutenberg.org/cache/epub/2000/pg2000.txt\")\n",
    "\n",
    "# Verificar si la solicitud fue exitosa\n",
    "if response.status_code == 200:\n",
    "    quijote = response.text\n",
    "    print(\"Éxito al leer el texto.\")\n",
    "else:\n",
    "    print(\"Error al leer el texto.\")"
   ]
  }
 ],
 "metadata": {
  "kernelspec": {
   "display_name": "Python 3",
   "language": "python",
   "name": "python3"
  },
  "language_info": {
   "codemirror_mode": {
    "name": "ipython",
    "version": 3
   },
   "file_extension": ".py",
   "mimetype": "text/x-python",
   "name": "python",
   "nbconvert_exporter": "python",
   "pygments_lexer": "ipython3",
   "version": "3.12.5"
  },
  "papermill": {
   "default_parameters": {},
   "duration": 4.070801,
   "end_time": "2024-08-28T08:10:49.007286",
   "environment_variables": {},
   "exception": true,
   "input_path": "prep.ipynb",
   "output_path": "prep_executed.ipynb",
   "parameters": {},
   "start_time": "2024-08-28T08:10:44.936485",
   "version": "2.6.0"
  }
 },
 "nbformat": 4,
 "nbformat_minor": 5
}