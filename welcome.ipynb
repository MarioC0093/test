{
 "cells": [
  {
   "cell_type": "raw",
   "id": "46a4dc4f",
   "metadata": {
    "vscode": {
     "languageId": "raw"
    }
   },
   "source": [
    "---\n",
    "#title: \"Pipeline para el Procesamiento del Lenguaje Natural (NPL) a través de la librería spaCy\"\n",
    "author: \"Mario Camacho\"\n",
    "date: \"08-25-2024\"\n",
    "date-modified: last-modified\n",
    "date-format: \"DD MMMM YYYY\"\n",
    "lang: es\n",
    "execute:\n",
    "  execute: true\n",
    "  enabled: true\n",
    "---"
   ]
  },
  {
   "cell_type": "markdown",
   "id": "0b4ac5e1",
   "metadata": {},
   "source": [
    "WELCOME"
   ]
  }
 ],
 "metadata": {
  "kernelspec": {
   "display_name": "Python 3",
   "language": "python",
   "name": "python3"
  },
  "language_info": {
   "codemirror_mode": {
    "name": "ipython",
    "version": 3
   },
   "file_extension": ".py",
   "mimetype": "text/x-python",
   "name": "python",
   "nbconvert_exporter": "python",
   "pygments_lexer": "ipython3",
   "version": "3.12.5"
  }
 },
 "nbformat": 4,
 "nbformat_minor": 5
}
